{
 "cells": [
  {
   "cell_type": "code",
   "execution_count": 1,
   "metadata": {},
   "outputs": [
    {
     "name": "stdout",
     "output_type": "stream",
     "text": [
      "   VIC1  1/11/2022 0:30  4178.18  8.94  TRADE\n",
      "0  VIC1  1/11/2022 1:00  4086.02  0.14  TRADE\n",
      "1  VIC1  1/11/2022 1:30  4033.37  0.02  TRADE\n",
      "2  VIC1  1/11/2022 2:00  3985.64  0.00  TRADE\n",
      "3  VIC1  1/11/2022 2:30  3885.64  0.02  TRADE\n",
      "4  VIC1  1/11/2022 3:00  3919.59  1.04  TRADE\n"
     ]
    }
   ],
   "source": [
    "import pandas as pd\n",
    "data = pd.read_csv('price_and_demand.csv')\n",
    "\n",
    "print(data.head())"
   ]
  },
  {
   "cell_type": "code",
   "execution_count": 2,
   "metadata": {},
   "outputs": [
    {
     "name": "stdout",
     "output_type": "stream",
     "text": [
      "<class 'pandas.core.frame.DataFrame'>\n",
      "RangeIndex: 8351 entries, 0 to 8350\n",
      "Data columns (total 5 columns):\n",
      " #   Column          Non-Null Count  Dtype  \n",
      "---  ------          --------------  -----  \n",
      " 0   VIC1            8351 non-null   object \n",
      " 1   1/11/2022 0:30  8351 non-null   object \n",
      " 2   4178.18         8351 non-null   float64\n",
      " 3   8.94            8351 non-null   float64\n",
      " 4   TRADE           8351 non-null   object \n",
      "dtypes: float64(2), object(3)\n",
      "memory usage: 326.3+ KB\n",
      "None\n"
     ]
    }
   ],
   "source": [
    "print(data.info())\n"
   ]
  },
  {
   "cell_type": "code",
   "execution_count": 3,
   "metadata": {},
   "outputs": [
    {
     "name": "stdout",
     "output_type": "stream",
     "text": [
      "           4178.18         8.94\n",
      "count  8351.000000  8351.000000\n",
      "mean   4420.866351    54.634773\n",
      "std     788.585884    88.054001\n",
      "min    1976.530000  -981.820000\n",
      "25%    3913.955000     0.000000\n",
      "50%    4342.350000    72.020000\n",
      "75%    4885.065000   106.225000\n",
      "max    8850.610000  3944.960000\n"
     ]
    }
   ],
   "source": [
    "print(data.describe())"
   ]
  },
  {
   "cell_type": "code",
   "execution_count": 5,
   "metadata": {},
   "outputs": [],
   "source": [
    "data_cleaned = data.dropna()\n"
   ]
  },
  {
   "cell_type": "code",
   "execution_count": 6,
   "metadata": {},
   "outputs": [],
   "source": [
    "data_filled = data.fillna(data.mean())"
   ]
  },
  {
   "cell_type": "code",
   "execution_count": null,
   "metadata": {},
   "outputs": [],
   "source": []
  }
 ],
 "metadata": {
  "kernelspec": {
   "display_name": "Python 3",
   "language": "python",
   "name": "python3"
  },
  "language_info": {
   "codemirror_mode": {
    "name": "ipython",
    "version": 3
   },
   "file_extension": ".py",
   "mimetype": "text/x-python",
   "name": "python",
   "nbconvert_exporter": "python",
   "pygments_lexer": "ipython3",
   "version": "3.7.4"
  }
 },
 "nbformat": 4,
 "nbformat_minor": 4
}
